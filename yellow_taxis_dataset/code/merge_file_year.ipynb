{
 "cells": [
  {
   "cell_type": "code",
   "execution_count": 1,
   "id": "83401e3e-1ab7-46a7-8d40-0521405477ee",
   "metadata": {},
   "outputs": [],
   "source": [
    "import polars as pl\n",
    "import os"
   ]
  },
  {
   "cell_type": "code",
   "execution_count": 46,
   "id": "b747f369-c1b9-4be3-a04a-4c43f3dd68d5",
   "metadata": {},
   "outputs": [
    {
     "name": "stdin",
     "output_type": "stream",
     "text": [
      "YEAR:  2023\n"
     ]
    },
    {
     "name": "stdout",
     "output_type": "stream",
     "text": [
      "D:/UNIVERSITY/FDE-Slide/final_Project/2023\\yellow_tripdata_2023-01.parquet\n",
      "(row, column) =  (3066766, 19)\n",
      "D:/UNIVERSITY/FDE-Slide/final_Project/2023\\yellow_tripdata_2023-02.parquet\n",
      "(row, column) =  (2913955, 19)\n",
      "D:/UNIVERSITY/FDE-Slide/final_Project/2023\\yellow_tripdata_2023-03.parquet\n",
      "(row, column) =  (3403766, 19)\n",
      "D:/UNIVERSITY/FDE-Slide/final_Project/2023\\yellow_tripdata_2023-04.parquet\n",
      "(row, column) =  (3288250, 19)\n",
      "D:/UNIVERSITY/FDE-Slide/final_Project/2023\\yellow_tripdata_2023-05.parquet\n",
      "(row, column) =  (3513649, 19)\n",
      "D:/UNIVERSITY/FDE-Slide/final_Project/2023\\yellow_tripdata_2023-06.parquet\n",
      "(row, column) =  (3307234, 19)\n"
     ]
    }
   ],
   "source": [
    "i = str(input(\"YEAR: \"))\n",
    "data = pl.DataFrame()\n",
    "addr = f\"D:/UNIVERSITY/FDE-Slide/final_Project/{i}\"\n",
    "for root, dirs, files in os.walk(addr, topdown=False):\n",
    "    for name in files:\n",
    "        if (name.find(i)>=0):\n",
    "            address = root + '\\\\' + name\n",
    "            print(address)\n",
    "            \n",
    "            tmp = pl.read_parquet(address)\n",
    "            \n",
    "            if name not in ['yellow_tripdata_2023-01.parquet']:\n",
    "                \n",
    "                # Rename columns to have consistent names\n",
    "                column_renames = {\n",
    "                    \"Airport_fee\": \"airport_fee\"  \n",
    "                }\n",
    "                tmp = tmp.rename(column_renames)\n",
    "            \n",
    "            tmp = tmp.with_columns([tmp[\"VendorID\"].cast(pl.Int64),\n",
    "                                   tmp[\"passenger_count\"].cast(pl.Float64),\n",
    "                                   tmp[\"RatecodeID\"].cast(pl.Float64),\n",
    "                                   tmp[\"PULocationID\"].cast(pl.Int64),\n",
    "                                   tmp[\"DOLocationID\"].cast(pl.Int64)])\n",
    "            print('(row, column) = ', tmp.shape)\n",
    "            \n",
    "            data = pl.concat([data, tmp])"
   ]
  },
  {
   "cell_type": "code",
   "execution_count": 47,
   "id": "63369750-4327-4212-a308-9c9f5e95cece",
   "metadata": {},
   "outputs": [
    {
     "data": {
      "text/plain": [
       "(19493620, 19)"
      ]
     },
     "execution_count": 47,
     "metadata": {},
     "output_type": "execute_result"
    }
   ],
   "source": [
    "data.shape"
   ]
  },
  {
   "cell_type": "code",
   "execution_count": 48,
   "id": "730037ae-40ce-4579-8d8c-2fd7574e09cc",
   "metadata": {},
   "outputs": [
    {
     "name": "stdout",
     "output_type": "stream",
     "text": [
      "Finished\n"
     ]
    }
   ],
   "source": [
    "data.write_parquet(f\"D:/UNIVERSITY/FDE-Slide/final_Project/yellow_tripdata_{i}.parquet\")\n",
    "print(\"Finished\")"
   ]
  },
  {
   "cell_type": "code",
   "execution_count": 49,
   "id": "6cdd4098-78fa-47ea-ac88-6ddf4579027d",
   "metadata": {},
   "outputs": [
    {
     "name": "stdout",
     "output_type": "stream",
     "text": [
      "Wall time: 5.47 s\n"
     ]
    }
   ],
   "source": [
    "%%time\n",
    "df = pl.read_parquet(f\"D:/UNIVERSITY/FDE-Slide/final_Project/yellow_tripdata_{i}.parquet\")"
   ]
  },
  {
   "cell_type": "code",
   "execution_count": 50,
   "id": "f933a3d2-bf5d-4da9-8d6d-a32e50df1e21",
   "metadata": {},
   "outputs": [
    {
     "data": {
      "text/html": [
       "<div><style>\n",
       ".dataframe > thead > tr > th,\n",
       ".dataframe > tbody > tr > td {\n",
       "  text-align: right;\n",
       "}\n",
       "</style>\n",
       "<small>shape: (19_493_620, 19)</small><table border=\"1\" class=\"dataframe\"><thead><tr><th>VendorID</th><th>tpep_pickup_datetime</th><th>tpep_dropoff_datetime</th><th>passenger_count</th><th>trip_distance</th><th>RatecodeID</th><th>store_and_fwd_flag</th><th>PULocationID</th><th>DOLocationID</th><th>payment_type</th><th>fare_amount</th><th>extra</th><th>mta_tax</th><th>tip_amount</th><th>tolls_amount</th><th>improvement_surcharge</th><th>total_amount</th><th>congestion_surcharge</th><th>airport_fee</th></tr><tr><td>i64</td><td>datetime[ns]</td><td>datetime[ns]</td><td>f64</td><td>f64</td><td>f64</td><td>str</td><td>i64</td><td>i64</td><td>i64</td><td>f64</td><td>f64</td><td>f64</td><td>f64</td><td>f64</td><td>f64</td><td>f64</td><td>f64</td><td>f64</td></tr></thead><tbody><tr><td>2</td><td>2023-01-01 00:32:10</td><td>2023-01-01 00:40:36</td><td>1.0</td><td>0.97</td><td>1.0</td><td>&quot;N&quot;</td><td>161</td><td>141</td><td>2</td><td>9.3</td><td>1.0</td><td>0.5</td><td>0.0</td><td>0.0</td><td>1.0</td><td>14.3</td><td>2.5</td><td>0.0</td></tr><tr><td>2</td><td>2023-01-01 00:55:08</td><td>2023-01-01 01:01:27</td><td>1.0</td><td>1.1</td><td>1.0</td><td>&quot;N&quot;</td><td>43</td><td>237</td><td>1</td><td>7.9</td><td>1.0</td><td>0.5</td><td>4.0</td><td>0.0</td><td>1.0</td><td>16.9</td><td>2.5</td><td>0.0</td></tr><tr><td>2</td><td>2023-01-01 00:25:04</td><td>2023-01-01 00:37:49</td><td>1.0</td><td>2.51</td><td>1.0</td><td>&quot;N&quot;</td><td>48</td><td>238</td><td>1</td><td>14.9</td><td>1.0</td><td>0.5</td><td>15.0</td><td>0.0</td><td>1.0</td><td>34.9</td><td>2.5</td><td>0.0</td></tr><tr><td>1</td><td>2023-01-01 00:03:48</td><td>2023-01-01 00:13:25</td><td>0.0</td><td>1.9</td><td>1.0</td><td>&quot;N&quot;</td><td>138</td><td>7</td><td>1</td><td>12.1</td><td>7.25</td><td>0.5</td><td>0.0</td><td>0.0</td><td>1.0</td><td>20.85</td><td>0.0</td><td>1.25</td></tr><tr><td>2</td><td>2023-01-01 00:10:29</td><td>2023-01-01 00:21:19</td><td>1.0</td><td>1.43</td><td>1.0</td><td>&quot;N&quot;</td><td>107</td><td>79</td><td>1</td><td>11.4</td><td>1.0</td><td>0.5</td><td>3.28</td><td>0.0</td><td>1.0</td><td>19.68</td><td>2.5</td><td>0.0</td></tr><tr><td>2</td><td>2023-01-01 00:50:34</td><td>2023-01-01 01:02:52</td><td>1.0</td><td>1.84</td><td>1.0</td><td>&quot;N&quot;</td><td>161</td><td>137</td><td>1</td><td>12.8</td><td>1.0</td><td>0.5</td><td>10.0</td><td>0.0</td><td>1.0</td><td>27.8</td><td>2.5</td><td>0.0</td></tr><tr><td>2</td><td>2023-01-01 00:09:22</td><td>2023-01-01 00:19:49</td><td>1.0</td><td>1.66</td><td>1.0</td><td>&quot;N&quot;</td><td>239</td><td>143</td><td>1</td><td>12.1</td><td>1.0</td><td>0.5</td><td>3.42</td><td>0.0</td><td>1.0</td><td>20.52</td><td>2.5</td><td>0.0</td></tr><tr><td>2</td><td>2023-01-01 00:27:12</td><td>2023-01-01 00:49:56</td><td>1.0</td><td>11.7</td><td>1.0</td><td>&quot;N&quot;</td><td>142</td><td>200</td><td>1</td><td>45.7</td><td>1.0</td><td>0.5</td><td>10.74</td><td>3.0</td><td>1.0</td><td>64.44</td><td>2.5</td><td>0.0</td></tr><tr><td>2</td><td>2023-01-01 00:21:44</td><td>2023-01-01 00:36:40</td><td>1.0</td><td>2.95</td><td>1.0</td><td>&quot;N&quot;</td><td>164</td><td>236</td><td>1</td><td>17.7</td><td>1.0</td><td>0.5</td><td>5.68</td><td>0.0</td><td>1.0</td><td>28.38</td><td>2.5</td><td>0.0</td></tr><tr><td>2</td><td>2023-01-01 00:39:42</td><td>2023-01-01 00:50:36</td><td>1.0</td><td>3.01</td><td>1.0</td><td>&quot;N&quot;</td><td>141</td><td>107</td><td>2</td><td>14.9</td><td>1.0</td><td>0.5</td><td>0.0</td><td>0.0</td><td>1.0</td><td>19.9</td><td>2.5</td><td>0.0</td></tr><tr><td>2</td><td>2023-01-01 00:53:01</td><td>2023-01-01 01:01:45</td><td>1.0</td><td>1.8</td><td>1.0</td><td>&quot;N&quot;</td><td>234</td><td>68</td><td>1</td><td>11.4</td><td>1.0</td><td>0.5</td><td>3.28</td><td>0.0</td><td>1.0</td><td>19.68</td><td>2.5</td><td>0.0</td></tr><tr><td>1</td><td>2023-01-01 00:43:37</td><td>2023-01-01 01:17:18</td><td>4.0</td><td>7.3</td><td>1.0</td><td>&quot;N&quot;</td><td>79</td><td>264</td><td>1</td><td>33.8</td><td>3.5</td><td>0.5</td><td>7.75</td><td>0.0</td><td>1.0</td><td>46.55</td><td>2.5</td><td>0.0</td></tr><tr><td>&hellip;</td><td>&hellip;</td><td>&hellip;</td><td>&hellip;</td><td>&hellip;</td><td>&hellip;</td><td>&hellip;</td><td>&hellip;</td><td>&hellip;</td><td>&hellip;</td><td>&hellip;</td><td>&hellip;</td><td>&hellip;</td><td>&hellip;</td><td>&hellip;</td><td>&hellip;</td><td>&hellip;</td><td>&hellip;</td><td>&hellip;</td></tr><tr><td>2</td><td>2023-06-30 23:35:00</td><td>2023-07-01 00:02:00</td><td>null</td><td>5.97</td><td>null</td><td>null</td><td>255</td><td>161</td><td>0</td><td>22.25</td><td>0.0</td><td>0.5</td><td>3.0</td><td>0.0</td><td>1.0</td><td>29.25</td><td>null</td><td>null</td></tr><tr><td>2</td><td>2023-06-30 23:58:57</td><td>2023-07-01 00:25:16</td><td>null</td><td>9.54</td><td>null</td><td>null</td><td>107</td><td>244</td><td>0</td><td>34.83</td><td>0.0</td><td>0.5</td><td>0.0</td><td>0.0</td><td>1.0</td><td>38.83</td><td>null</td><td>null</td></tr><tr><td>2</td><td>2023-06-30 23:33:12</td><td>2023-07-01 00:06:30</td><td>null</td><td>12.17</td><td>null</td><td>null</td><td>37</td><td>42</td><td>0</td><td>49.42</td><td>0.0</td><td>0.5</td><td>0.0</td><td>6.55</td><td>1.0</td><td>57.47</td><td>null</td><td>null</td></tr><tr><td>1</td><td>2023-06-30 23:13:50</td><td>2023-06-30 23:56:32</td><td>null</td><td>0.0</td><td>null</td><td>null</td><td>50</td><td>62</td><td>0</td><td>47.0</td><td>1.0</td><td>0.5</td><td>8.78</td><td>6.55</td><td>1.0</td><td>69.33</td><td>null</td><td>null</td></tr><tr><td>2</td><td>2023-06-30 23:48:50</td><td>2023-07-01 00:11:30</td><td>null</td><td>9.4</td><td>null</td><td>null</td><td>25</td><td>95</td><td>0</td><td>34.3</td><td>0.0</td><td>0.5</td><td>0.0</td><td>0.0</td><td>1.0</td><td>35.8</td><td>null</td><td>null</td></tr><tr><td>2</td><td>2023-06-30 23:22:25</td><td>2023-06-30 23:40:49</td><td>null</td><td>3.63</td><td>null</td><td>null</td><td>112</td><td>144</td><td>0</td><td>10.21</td><td>0.0</td><td>0.5</td><td>4.84</td><td>0.0</td><td>1.0</td><td>19.05</td><td>null</td><td>null</td></tr><tr><td>2</td><td>2023-06-30 23:16:35</td><td>2023-06-30 23:26:43</td><td>null</td><td>1.7</td><td>null</td><td>null</td><td>162</td><td>263</td><td>0</td><td>9.59</td><td>0.0</td><td>0.5</td><td>0.0</td><td>0.0</td><td>1.0</td><td>13.59</td><td>null</td><td>null</td></tr><tr><td>2</td><td>2023-06-30 23:30:21</td><td>2023-07-01 00:00:46</td><td>null</td><td>9.2</td><td>null</td><td>null</td><td>42</td><td>148</td><td>0</td><td>38.53</td><td>0.0</td><td>0.5</td><td>8.51</td><td>0.0</td><td>1.0</td><td>51.04</td><td>null</td><td>null</td></tr><tr><td>1</td><td>2023-06-30 23:34:22</td><td>2023-07-01 00:32:59</td><td>null</td><td>20.2</td><td>null</td><td>null</td><td>132</td><td>74</td><td>0</td><td>70.0</td><td>1.75</td><td>0.5</td><td>11.97</td><td>6.55</td><td>1.0</td><td>91.77</td><td>null</td><td>null</td></tr><tr><td>2</td><td>2023-06-30 23:45:00</td><td>2023-07-01 00:10:00</td><td>null</td><td>6.16</td><td>null</td><td>null</td><td>256</td><td>140</td><td>0</td><td>28.03</td><td>0.0</td><td>0.5</td><td>6.41</td><td>0.0</td><td>1.0</td><td>38.44</td><td>null</td><td>null</td></tr><tr><td>2</td><td>2023-06-30 23:13:38</td><td>2023-06-30 23:51:19</td><td>null</td><td>11.65</td><td>null</td><td>null</td><td>91</td><td>246</td><td>0</td><td>45.74</td><td>0.0</td><td>0.5</td><td>0.0</td><td>6.55</td><td>1.0</td><td>56.29</td><td>null</td><td>null</td></tr><tr><td>2</td><td>2023-06-30 23:18:00</td><td>2023-06-30 23:31:00</td><td>null</td><td>1.4</td><td>null</td><td>null</td><td>164</td><td>230</td><td>0</td><td>14.35</td><td>0.0</td><td>0.5</td><td>0.0</td><td>0.0</td><td>1.0</td><td>18.35</td><td>null</td><td>null</td></tr></tbody></table></div>"
      ],
      "text/plain": [
       "shape: (19_493_620, 19)\n",
       "┌──────────┬──────────────┬──────────────┬──────────────┬───┬──────────────┬──────────────┬──────────────┬─────────────┐\n",
       "│ VendorID ┆ tpep_pickup_ ┆ tpep_dropoff ┆ passenger_co ┆ … ┆ improvement_ ┆ total_amount ┆ congestion_s ┆ airport_fee │\n",
       "│ ---      ┆ datetime     ┆ _datetime    ┆ unt          ┆   ┆ surcharge    ┆ ---          ┆ urcharge     ┆ ---         │\n",
       "│ i64      ┆ ---          ┆ ---          ┆ ---          ┆   ┆ ---          ┆ f64          ┆ ---          ┆ f64         │\n",
       "│          ┆ datetime[ns] ┆ datetime[ns] ┆ f64          ┆   ┆ f64          ┆              ┆ f64          ┆             │\n",
       "╞══════════╪══════════════╪══════════════╪══════════════╪═══╪══════════════╪══════════════╪══════════════╪═════════════╡\n",
       "│ 2        ┆ 2023-01-01   ┆ 2023-01-01   ┆ 1.0          ┆ … ┆ 1.0          ┆ 14.3         ┆ 2.5          ┆ 0.0         │\n",
       "│          ┆ 00:32:10     ┆ 00:40:36     ┆              ┆   ┆              ┆              ┆              ┆             │\n",
       "│ 2        ┆ 2023-01-01   ┆ 2023-01-01   ┆ 1.0          ┆ … ┆ 1.0          ┆ 16.9         ┆ 2.5          ┆ 0.0         │\n",
       "│          ┆ 00:55:08     ┆ 01:01:27     ┆              ┆   ┆              ┆              ┆              ┆             │\n",
       "│ 2        ┆ 2023-01-01   ┆ 2023-01-01   ┆ 1.0          ┆ … ┆ 1.0          ┆ 34.9         ┆ 2.5          ┆ 0.0         │\n",
       "│          ┆ 00:25:04     ┆ 00:37:49     ┆              ┆   ┆              ┆              ┆              ┆             │\n",
       "│ 1        ┆ 2023-01-01   ┆ 2023-01-01   ┆ 0.0          ┆ … ┆ 1.0          ┆ 20.85        ┆ 0.0          ┆ 1.25        │\n",
       "│          ┆ 00:03:48     ┆ 00:13:25     ┆              ┆   ┆              ┆              ┆              ┆             │\n",
       "│ …        ┆ …            ┆ …            ┆ …            ┆ … ┆ …            ┆ …            ┆ …            ┆ …           │\n",
       "│ 1        ┆ 2023-06-30   ┆ 2023-07-01   ┆ null         ┆ … ┆ 1.0          ┆ 91.77        ┆ null         ┆ null        │\n",
       "│          ┆ 23:34:22     ┆ 00:32:59     ┆              ┆   ┆              ┆              ┆              ┆             │\n",
       "│ 2        ┆ 2023-06-30   ┆ 2023-07-01   ┆ null         ┆ … ┆ 1.0          ┆ 38.44        ┆ null         ┆ null        │\n",
       "│          ┆ 23:45:00     ┆ 00:10:00     ┆              ┆   ┆              ┆              ┆              ┆             │\n",
       "│ 2        ┆ 2023-06-30   ┆ 2023-06-30   ┆ null         ┆ … ┆ 1.0          ┆ 56.29        ┆ null         ┆ null        │\n",
       "│          ┆ 23:13:38     ┆ 23:51:19     ┆              ┆   ┆              ┆              ┆              ┆             │\n",
       "│ 2        ┆ 2023-06-30   ┆ 2023-06-30   ┆ null         ┆ … ┆ 1.0          ┆ 18.35        ┆ null         ┆ null        │\n",
       "│          ┆ 23:18:00     ┆ 23:31:00     ┆              ┆   ┆              ┆              ┆              ┆             │\n",
       "└──────────┴──────────────┴──────────────┴──────────────┴───┴──────────────┴──────────────┴──────────────┴─────────────┘"
      ]
     },
     "execution_count": 50,
     "metadata": {},
     "output_type": "execute_result"
    }
   ],
   "source": [
    "df"
   ]
  },
  {
   "cell_type": "code",
   "execution_count": null,
   "id": "87925b73-8635-4ab6-b84f-e322aab6d325",
   "metadata": {},
   "outputs": [],
   "source": []
  }
 ],
 "metadata": {
  "kernelspec": {
   "display_name": "Python 3 (ipykernel)",
   "language": "python",
   "name": "python3"
  },
  "language_info": {
   "codemirror_mode": {
    "name": "ipython",
    "version": 3
   },
   "file_extension": ".py",
   "mimetype": "text/x-python",
   "name": "python",
   "nbconvert_exporter": "python",
   "pygments_lexer": "ipython3",
   "version": "3.9.13"
  }
 },
 "nbformat": 4,
 "nbformat_minor": 5
}
